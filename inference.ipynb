{
 "cells": [
  {
   "cell_type": "markdown",
   "metadata": {},
   "source": [
    "Requirements"
   ]
  },
  {
   "cell_type": "code",
   "execution_count": 1,
   "metadata": {},
   "outputs": [
    {
     "data": {
      "text/plain": [
       "' !pip install torchvision==0.8.2\\n!pip install timm==0.3.2\\n!pip install mmcv-full==1.2.7\\n!pip install opencv-python==4.5.1.48\\n!cd SegFormer && pip install -e . --user '"
      ]
     },
     "execution_count": 1,
     "metadata": {},
     "output_type": "execute_result"
    }
   ],
   "source": [
    "\"\"\" !pip install torchvision==0.8.2\n",
    "!pip install timm==0.3.2\n",
    "!pip install mmcv-full==1.2.7\n",
    "!pip install opencv-python==4.5.1.48\n",
    "!cd SegFormer && pip install -e . --user \"\"\""
   ]
  },
  {
   "cell_type": "code",
   "execution_count": 1,
   "metadata": {},
   "outputs": [],
   "source": [
    "config_path = 'local_configs/segformer/B5/segformer.b5.1024x1024.city.160k.py'\n",
    "dataset_root = '/data/users_home/mbarin/cityscapes'\n",
    "ckpt_path = '/home/mbarin/Desktop/vs-code/segformer/SegFormer/checkpoints/segformer.b5.1024x1024.city.160k.pth'"
   ]
  },
  {
   "cell_type": "code",
   "execution_count": 3,
   "metadata": {},
   "outputs": [
    {
     "name": "stdout",
     "output_type": "stream",
     "text": [
      "The autoreload extension is already loaded. To reload it, use:\n",
      "  %reload_ext autoreload\n"
     ]
    }
   ],
   "source": [
    "%load_ext autoreload\n",
    "%autoreload 2"
   ]
  },
  {
   "cell_type": "markdown",
   "metadata": {},
   "source": [
    "### Load Model for Inference"
   ]
  },
  {
   "cell_type": "code",
   "execution_count": 4,
   "metadata": {},
   "outputs": [
    {
     "name": "stderr",
     "output_type": "stream",
     "text": [
      "/home/mbarin/anaconda3/envs/segformer_env/lib/python3.8/site-packages/tqdm/auto.py:22: TqdmWarning: IProgress not found. Please update jupyter and ipywidgets. See https://ipywidgets.readthedocs.io/en/stable/user_install.html\n",
      "  from .autonotebook import tqdm as notebook_tqdm\n"
     ]
    }
   ],
   "source": [
    "import mmcv"
   ]
  },
  {
   "cell_type": "code",
   "execution_count": 5,
   "metadata": {},
   "outputs": [],
   "source": [
    "cfg = mmcv.Config.fromfile(config_path)\n",
    "cfg.model.pretrained = None\n",
    "cfg.data.test.test_mode = True\n",
    "cfg.model.train_cfg = None"
   ]
  },
  {
   "cell_type": "code",
   "execution_count": 6,
   "metadata": {},
   "outputs": [],
   "source": [
    "from mmcv.utils import Registry, build_from_cfg\n",
    "import argparse\n",
    "import os\n",
    "\n",
    "import mmcv\n",
    "import torch\n",
    "from mmcv.parallel import MMDataParallel, MMDistributedDataParallel\n",
    "from mmcv.runner import get_dist_info, init_dist, load_checkpoint\n",
    "from mmcv.utils import DictAction\n",
    "\n",
    "from mmseg.apis import multi_gpu_test, single_gpu_test\n",
    "from mmseg.datasets import build_dataloader, build_dataset\n",
    "from mmseg.models import build_segmentor\n",
    "from IPython import embed"
   ]
  },
  {
   "cell_type": "code",
   "execution_count": 7,
   "metadata": {},
   "outputs": [],
   "source": [
    "\n",
    "model = build_segmentor(cfg.model, test_cfg=cfg.get('test_cfg'))"
   ]
  },
  {
   "cell_type": "code",
   "execution_count": 8,
   "metadata": {},
   "outputs": [
    {
     "name": "stdout",
     "output_type": "stream",
     "text": [
      "Use load_from_local loader\n"
     ]
    }
   ],
   "source": [
    "checkpoint = load_checkpoint(model, ckpt_path, map_location='cpu')"
   ]
  },
  {
   "cell_type": "markdown",
   "metadata": {},
   "source": [
    "### Data"
   ]
  },
  {
   "cell_type": "code",
   "execution_count": 12,
   "metadata": {},
   "outputs": [],
   "source": [
    "import albumentations as A\n",
    "from albumentations.pytorch import ToTensorV2\n",
    "\n",
    "from cityscapes.dataset import Cityscapes\n",
    "from easydict import EasyDict as edict\n",
    "\n",
    "from torch.utils.data import DataLoader"
   ]
  },
  {
   "cell_type": "code",
   "execution_count": 13,
   "metadata": {},
   "outputs": [],
   "source": [
    "hparams = edict(\n",
    "            dataset_root=dataset_root\n",
    "        )\n"
   ]
  },
  {
   "cell_type": "code",
   "execution_count": 14,
   "metadata": {},
   "outputs": [],
   "source": [
    "transform = A.Compose([\n",
    "    ToTensorV2()\n",
    "])"
   ]
  },
  {
   "cell_type": "code",
   "execution_count": 15,
   "metadata": {},
   "outputs": [
    {
     "name": "stdout",
     "output_type": "stream",
     "text": [
      "IMG DIR  /data/users_home/mbarin/cityscapes/leftImg8bit/val\n",
      "TARGETS DIR  /data/users_home/mbarin/cityscapes/gtFine/val\n",
      "THERE ARE 279 files under this folder :  /data/users_home/mbarin/cityscapes/leftImg8bit/val/frankfurt\n",
      "THERE ARE 186 files under this folder :  /data/users_home/mbarin/cityscapes/leftImg8bit/val/munster\n",
      "THERE ARE 71 files under this folder :  /data/users_home/mbarin/cityscapes/leftImg8bit/val/lindau\n",
      "THERE ARE  500  IMAGES IN TOTAL\n"
     ]
    }
   ],
   "source": [
    "dataset = Cityscapes(hparams=hparams,\n",
    "                                    split='val',\n",
    "                                    sampling_type='random',\n",
    "                                    #distortion=distortion, \n",
    "                                    transform=transform,\n",
    "                                    severity=str(1))"
   ]
  },
  {
   "cell_type": "code",
   "execution_count": 16,
   "metadata": {},
   "outputs": [],
   "source": [
    "img, target, path = dataset[0]"
   ]
  },
  {
   "cell_type": "code",
   "execution_count": 17,
   "metadata": {},
   "outputs": [
    {
     "data": {
      "text/plain": [
       "(torch.Size([3, 1024, 2048]),\n",
       " torch.Size([1024, 2048]),\n",
       " '/data/users_home/mbarin/cityscapes/leftImg8bit/val/frankfurt/spatter/1/frankfurt_000000_000294_leftImg8bit.png')"
      ]
     },
     "execution_count": 17,
     "metadata": {},
     "output_type": "execute_result"
    }
   ],
   "source": [
    "img.shape, target.shape, path"
   ]
  },
  {
   "cell_type": "code",
   "execution_count": 18,
   "metadata": {},
   "outputs": [],
   "source": [
    "import matplotlib.pyplot as plt\n",
    "import numpy as np"
   ]
  },
  {
   "cell_type": "code",
   "execution_count": 19,
   "metadata": {},
   "outputs": [
    {
     "data": {
      "text/plain": [
       "<matplotlib.image.AxesImage at 0x7efe01dce640>"
      ]
     },
     "execution_count": 19,
     "metadata": {},
     "output_type": "execute_result"
    },
    {
     "data": {
      "image/png": "[encoded data removed]",
      "text/plain": [
       "<Figure size 640x480 with 1 Axes>"
      ]
     },
     "metadata": {},
     "output_type": "display_data"
    }
   ],
   "source": [
    "plt.imshow(target)"
   ]
  },
  {
   "cell_type": "code",
   "execution_count": 20,
   "metadata": {},
   "outputs": [],
   "source": [
    "img, target, path = dataset[0]"
   ]
  },
  {
   "cell_type": "code",
   "execution_count": 21,
   "metadata": {},
   "outputs": [
    {
     "data": {
      "text/plain": [
       "torch.Size([3, 1024, 2048])"
      ]
     },
     "execution_count": 21,
     "metadata": {},
     "output_type": "execute_result"
    }
   ],
   "source": [
    "img.shape"
   ]
  },
  {
   "cell_type": "code",
   "execution_count": 22,
   "metadata": {},
   "outputs": [],
   "source": [
    "img.dtype\n",
    "model.cuda()\n",
    "_ = model.eval()"
   ]
  },
  {
   "cell_type": "code",
   "execution_count": 32,
   "metadata": {},
   "outputs": [
    {
     "name": "stdout",
     "output_type": "stream",
     "text": [
      "[{'ori_shape': [1024, 2048], 'img_shape': [1024, 2048], 'pad_shape': [0, 0, 0, 0], 'flip': False}]\n"
     ]
    },
    {
     "data": {
      "text/plain": [
       "[array([[2, 2, 2, ..., 2, 2, 2],\n",
       "        [2, 2, 2, ..., 2, 2, 2],\n",
       "        [2, 2, 2, ..., 2, 2, 2],\n",
       "        ...,\n",
       "        [0, 0, 0, ..., 0, 0, 0],\n",
       "        [0, 0, 0, ..., 0, 0, 0],\n",
       "        [0, 0, 0, ..., 0, 0, 0]])]"
      ]
     },
     "execution_count": 32,
     "metadata": {},
     "output_type": "execute_result"
    }
   ],
   "source": [
    "with torch.no_grad():\n",
    "    out = model([img.unsqueeze(0).cuda()*1.0], img_metas=[[{'ori_shape':[1024, 2048], 'img_shape':[1024,2048],  'pad_shape':[0,0,0,0], 'flip':False}]], return_loss=False)\n",
    "\n",
    "out"
   ]
  },
  {
   "cell_type": "code",
   "execution_count": 39,
   "metadata": {},
   "outputs": [
    {
     "data": {
      "text/plain": [
       "<matplotlib.image.AxesImage at 0x7ff9baa99df0>"
      ]
     },
     "execution_count": 39,
     "metadata": {},
     "output_type": "execute_result"
    },
    {
     "data": {
      "image/png": "[encoded data removed]",
      "text/plain": [
       "<Figure size 640x480 with 1 Axes>"
      ]
     },
     "metadata": {},
     "output_type": "display_data"
    }
   ],
   "source": [
    "plt.imshow(out[0])"
   ]
  },
  {
   "cell_type": "code",
   "execution_count": 36,
   "metadata": {},
   "outputs": [
    {
     "ename": "AssertionError",
     "evalue": "Default process group is not initialized",
     "output_type": "error",
     "traceback": [
      "\u001b[0;31m---------------------------------------------------------------------------\u001b[0m",
      "\u001b[0;31mAssertionError\u001b[0m                            Traceback (most recent call last)",
      "Cell \u001b[0;32mIn[36], line 3\u001b[0m\n\u001b[1;32m      1\u001b[0m model \u001b[39m=\u001b[39m model\u001b[39m.\u001b[39mcuda()\n\u001b[1;32m      2\u001b[0m \u001b[39mwith\u001b[39;00m torch\u001b[39m.\u001b[39mno_grad():\n\u001b[0;32m----> 3\u001b[0m             result \u001b[39m=\u001b[39m model\u001b[39m.\u001b[39;49minference(torch\u001b[39m.\u001b[39;49mTensor(img)\u001b[39m.\u001b[39;49mpermute(\u001b[39m2\u001b[39;49m, \u001b[39m0\u001b[39;49m, \u001b[39m1\u001b[39;49m)\u001b[39m.\u001b[39;49munsqueeze(\u001b[39m0\u001b[39;49m)\u001b[39m.\u001b[39;49mcuda(), img_meta\u001b[39m=\u001b[39;49m[{\u001b[39m'\u001b[39;49m\u001b[39mori_shape\u001b[39;49m\u001b[39m'\u001b[39;49m:(\u001b[39m1024\u001b[39;49m,\u001b[39m2048\u001b[39;49m)}], rescale\u001b[39m=\u001b[39;49m\u001b[39mFalse\u001b[39;49;00m)\n",
      "File \u001b[0;32m~/Desktop/vs-code/segformer/SegFormer/mmseg/models/segmentors/encoder_decoder.py:248\u001b[0m, in \u001b[0;36mEncoderDecoder.inference\u001b[0;34m(self, img, img_meta, rescale)\u001b[0m\n\u001b[1;32m    246\u001b[0m \u001b[39massert\u001b[39;00m \u001b[39mall\u001b[39m(_[\u001b[39m'\u001b[39m\u001b[39mori_shape\u001b[39m\u001b[39m'\u001b[39m] \u001b[39m==\u001b[39m ori_shape \u001b[39mfor\u001b[39;00m _ \u001b[39min\u001b[39;00m img_meta)\n\u001b[1;32m    247\u001b[0m \u001b[39mif\u001b[39;00m \u001b[39mself\u001b[39m\u001b[39m.\u001b[39mtest_cfg\u001b[39m.\u001b[39mmode \u001b[39m==\u001b[39m \u001b[39m'\u001b[39m\u001b[39mslide\u001b[39m\u001b[39m'\u001b[39m:\n\u001b[0;32m--> 248\u001b[0m     seg_logit \u001b[39m=\u001b[39m \u001b[39mself\u001b[39;49m\u001b[39m.\u001b[39;49mslide_inference(img, img_meta, rescale)\n\u001b[1;32m    249\u001b[0m \u001b[39melse\u001b[39;00m:\n\u001b[1;32m    250\u001b[0m     seg_logit \u001b[39m=\u001b[39m \u001b[39mself\u001b[39m\u001b[39m.\u001b[39mwhole_inference(img, img_meta, rescale)\n",
      "File \u001b[0;32m~/Desktop/vs-code/segformer/SegFormer/mmseg/models/segmentors/encoder_decoder.py:193\u001b[0m, in \u001b[0;36mEncoderDecoder.slide_inference\u001b[0;34m(self, img, img_meta, rescale)\u001b[0m\n\u001b[1;32m    191\u001b[0m x1 \u001b[39m=\u001b[39m \u001b[39mmax\u001b[39m(x2 \u001b[39m-\u001b[39m w_crop, \u001b[39m0\u001b[39m)\n\u001b[1;32m    192\u001b[0m crop_img \u001b[39m=\u001b[39m img[:, :, y1:y2, x1:x2]\n\u001b[0;32m--> 193\u001b[0m crop_seg_logit \u001b[39m=\u001b[39m \u001b[39mself\u001b[39;49m\u001b[39m.\u001b[39;49mencode_decode(crop_img, img_meta)\n\u001b[1;32m    194\u001b[0m preds \u001b[39m+\u001b[39m\u001b[39m=\u001b[39m F\u001b[39m.\u001b[39mpad(crop_seg_logit,\n\u001b[1;32m    195\u001b[0m                (\u001b[39mint\u001b[39m(x1), \u001b[39mint\u001b[39m(preds\u001b[39m.\u001b[39mshape[\u001b[39m3\u001b[39m] \u001b[39m-\u001b[39m x2), \u001b[39mint\u001b[39m(y1),\n\u001b[1;32m    196\u001b[0m                 \u001b[39mint\u001b[39m(preds\u001b[39m.\u001b[39mshape[\u001b[39m2\u001b[39m] \u001b[39m-\u001b[39m y2)))\n\u001b[1;32m    198\u001b[0m count_mat[:, :, y1:y2, x1:x2] \u001b[39m+\u001b[39m\u001b[39m=\u001b[39m \u001b[39m1\u001b[39m\n",
      "File \u001b[0;32m~/Desktop/vs-code/segformer/SegFormer/mmseg/models/segmentors/encoder_decoder.py:88\u001b[0m, in \u001b[0;36mEncoderDecoder.encode_decode\u001b[0;34m(self, img, img_metas)\u001b[0m\n\u001b[1;32m     85\u001b[0m \u001b[39m\"\"\"Encode images with backbone and decode into a semantic segmentation\u001b[39;00m\n\u001b[1;32m     86\u001b[0m \u001b[39mmap of the same size as input.\"\"\"\u001b[39;00m\n\u001b[1;32m     87\u001b[0m x \u001b[39m=\u001b[39m \u001b[39mself\u001b[39m\u001b[39m.\u001b[39mextract_feat(img)\n\u001b[0;32m---> 88\u001b[0m out \u001b[39m=\u001b[39m \u001b[39mself\u001b[39;49m\u001b[39m.\u001b[39;49m_decode_head_forward_test(x, img_metas)\n\u001b[1;32m     89\u001b[0m out \u001b[39m=\u001b[39m resize(\n\u001b[1;32m     90\u001b[0m     \u001b[39minput\u001b[39m\u001b[39m=\u001b[39mout,\n\u001b[1;32m     91\u001b[0m     size\u001b[39m=\u001b[39mimg\u001b[39m.\u001b[39mshape[\u001b[39m2\u001b[39m:],\n\u001b[1;32m     92\u001b[0m     mode\u001b[39m=\u001b[39m\u001b[39m'\u001b[39m\u001b[39mbilinear\u001b[39m\u001b[39m'\u001b[39m,\n\u001b[1;32m     93\u001b[0m     align_corners\u001b[39m=\u001b[39m\u001b[39mself\u001b[39m\u001b[39m.\u001b[39malign_corners)\n\u001b[1;32m     94\u001b[0m \u001b[39mreturn\u001b[39;00m out\n",
      "File \u001b[0;32m~/Desktop/vs-code/segformer/SegFormer/mmseg/models/segmentors/encoder_decoder.py:110\u001b[0m, in \u001b[0;36mEncoderDecoder._decode_head_forward_test\u001b[0;34m(self, x, img_metas)\u001b[0m\n\u001b[1;32m    107\u001b[0m \u001b[39mdef\u001b[39;00m \u001b[39m_decode_head_forward_test\u001b[39m(\u001b[39mself\u001b[39m, x, img_metas):\n\u001b[1;32m    108\u001b[0m     \u001b[39m\"\"\"Run forward function and calculate loss for decode head in\u001b[39;00m\n\u001b[1;32m    109\u001b[0m \u001b[39m    inference.\"\"\"\u001b[39;00m\n\u001b[0;32m--> 110\u001b[0m     seg_logits \u001b[39m=\u001b[39m \u001b[39mself\u001b[39;49m\u001b[39m.\u001b[39;49mdecode_head\u001b[39m.\u001b[39;49mforward_test(x, img_metas, \u001b[39mself\u001b[39;49m\u001b[39m.\u001b[39;49mtest_cfg)\n\u001b[1;32m    111\u001b[0m     \u001b[39mreturn\u001b[39;00m seg_logits\n",
      "File \u001b[0;32m~/Desktop/vs-code/segformer/SegFormer/mmseg/models/decode_heads/decode_head.py:207\u001b[0m, in \u001b[0;36mBaseDecodeHead.forward_test\u001b[0;34m(self, inputs, img_metas, test_cfg)\u001b[0m\n\u001b[1;32m    192\u001b[0m \u001b[39mdef\u001b[39;00m \u001b[39mforward_test\u001b[39m(\u001b[39mself\u001b[39m, inputs, img_metas, test_cfg):\n\u001b[1;32m    193\u001b[0m     \u001b[39m\"\"\"Forward function for testing.\u001b[39;00m\n\u001b[1;32m    194\u001b[0m \n\u001b[1;32m    195\u001b[0m \u001b[39m    Args:\u001b[39;00m\n\u001b[0;32m   (...)\u001b[0m\n\u001b[1;32m    205\u001b[0m \u001b[39m        Tensor: Output segmentation map.\u001b[39;00m\n\u001b[1;32m    206\u001b[0m \u001b[39m    \"\"\"\u001b[39;00m\n\u001b[0;32m--> 207\u001b[0m     \u001b[39mreturn\u001b[39;00m \u001b[39mself\u001b[39;49m\u001b[39m.\u001b[39;49mforward(inputs)\n",
      "File \u001b[0;32m~/Desktop/vs-code/segformer/SegFormer/mmseg/models/decode_heads/segformer_head.py:82\u001b[0m, in \u001b[0;36mSegFormerHead.forward\u001b[0;34m(self, inputs)\u001b[0m\n\u001b[1;32m     78\u001b[0m _c2 \u001b[39m=\u001b[39m resize(_c2, size\u001b[39m=\u001b[39mc1\u001b[39m.\u001b[39msize()[\u001b[39m2\u001b[39m:],mode\u001b[39m=\u001b[39m\u001b[39m'\u001b[39m\u001b[39mbilinear\u001b[39m\u001b[39m'\u001b[39m,align_corners\u001b[39m=\u001b[39m\u001b[39mFalse\u001b[39;00m)\n\u001b[1;32m     80\u001b[0m _c1 \u001b[39m=\u001b[39m \u001b[39mself\u001b[39m\u001b[39m.\u001b[39mlinear_c1(c1)\u001b[39m.\u001b[39mpermute(\u001b[39m0\u001b[39m,\u001b[39m2\u001b[39m,\u001b[39m1\u001b[39m)\u001b[39m.\u001b[39mreshape(n, \u001b[39m-\u001b[39m\u001b[39m1\u001b[39m, c1\u001b[39m.\u001b[39mshape[\u001b[39m2\u001b[39m], c1\u001b[39m.\u001b[39mshape[\u001b[39m3\u001b[39m])\n\u001b[0;32m---> 82\u001b[0m _c \u001b[39m=\u001b[39m \u001b[39mself\u001b[39;49m\u001b[39m.\u001b[39;49mlinear_fuse(torch\u001b[39m.\u001b[39;49mcat([_c4, _c3, _c2, _c1], dim\u001b[39m=\u001b[39;49m\u001b[39m1\u001b[39;49m))\n\u001b[1;32m     84\u001b[0m x \u001b[39m=\u001b[39m \u001b[39mself\u001b[39m\u001b[39m.\u001b[39mdropout(_c)\n\u001b[1;32m     85\u001b[0m x \u001b[39m=\u001b[39m \u001b[39mself\u001b[39m\u001b[39m.\u001b[39mlinear_pred(x)\n",
      "File \u001b[0;32m~/anaconda3/envs/segformer_env/lib/python3.8/site-packages/torch/nn/modules/module.py:727\u001b[0m, in \u001b[0;36mModule._call_impl\u001b[0;34m(self, *input, **kwargs)\u001b[0m\n\u001b[1;32m    725\u001b[0m     result \u001b[39m=\u001b[39m \u001b[39mself\u001b[39m\u001b[39m.\u001b[39m_slow_forward(\u001b[39m*\u001b[39m\u001b[39minput\u001b[39m, \u001b[39m*\u001b[39m\u001b[39m*\u001b[39mkwargs)\n\u001b[1;32m    726\u001b[0m \u001b[39melse\u001b[39;00m:\n\u001b[0;32m--> 727\u001b[0m     result \u001b[39m=\u001b[39m \u001b[39mself\u001b[39;49m\u001b[39m.\u001b[39;49mforward(\u001b[39m*\u001b[39;49m\u001b[39minput\u001b[39;49m, \u001b[39m*\u001b[39;49m\u001b[39m*\u001b[39;49mkwargs)\n\u001b[1;32m    728\u001b[0m \u001b[39mfor\u001b[39;00m hook \u001b[39min\u001b[39;00m itertools\u001b[39m.\u001b[39mchain(\n\u001b[1;32m    729\u001b[0m         _global_forward_hooks\u001b[39m.\u001b[39mvalues(),\n\u001b[1;32m    730\u001b[0m         \u001b[39mself\u001b[39m\u001b[39m.\u001b[39m_forward_hooks\u001b[39m.\u001b[39mvalues()):\n\u001b[1;32m    731\u001b[0m     hook_result \u001b[39m=\u001b[39m hook(\u001b[39mself\u001b[39m, \u001b[39minput\u001b[39m, result)\n",
      "File \u001b[0;32m~/anaconda3/envs/segformer_env/lib/python3.8/site-packages/mmcv/cnn/bricks/conv_module.py:200\u001b[0m, in \u001b[0;36mConvModule.forward\u001b[0;34m(self, x, activate, norm)\u001b[0m\n\u001b[1;32m    198\u001b[0m     x \u001b[39m=\u001b[39m \u001b[39mself\u001b[39m\u001b[39m.\u001b[39mconv(x)\n\u001b[1;32m    199\u001b[0m \u001b[39melif\u001b[39;00m layer \u001b[39m==\u001b[39m \u001b[39m'\u001b[39m\u001b[39mnorm\u001b[39m\u001b[39m'\u001b[39m \u001b[39mand\u001b[39;00m norm \u001b[39mand\u001b[39;00m \u001b[39mself\u001b[39m\u001b[39m.\u001b[39mwith_norm:\n\u001b[0;32m--> 200\u001b[0m     x \u001b[39m=\u001b[39m \u001b[39mself\u001b[39;49m\u001b[39m.\u001b[39;49mnorm(x)\n\u001b[1;32m    201\u001b[0m \u001b[39melif\u001b[39;00m layer \u001b[39m==\u001b[39m \u001b[39m'\u001b[39m\u001b[39mact\u001b[39m\u001b[39m'\u001b[39m \u001b[39mand\u001b[39;00m activate \u001b[39mand\u001b[39;00m \u001b[39mself\u001b[39m\u001b[39m.\u001b[39mwith_activation:\n\u001b[1;32m    202\u001b[0m     x \u001b[39m=\u001b[39m \u001b[39mself\u001b[39m\u001b[39m.\u001b[39mactivate(x)\n",
      "File \u001b[0;32m~/anaconda3/envs/segformer_env/lib/python3.8/site-packages/torch/nn/modules/module.py:727\u001b[0m, in \u001b[0;36mModule._call_impl\u001b[0;34m(self, *input, **kwargs)\u001b[0m\n\u001b[1;32m    725\u001b[0m     result \u001b[39m=\u001b[39m \u001b[39mself\u001b[39m\u001b[39m.\u001b[39m_slow_forward(\u001b[39m*\u001b[39m\u001b[39minput\u001b[39m, \u001b[39m*\u001b[39m\u001b[39m*\u001b[39mkwargs)\n\u001b[1;32m    726\u001b[0m \u001b[39melse\u001b[39;00m:\n\u001b[0;32m--> 727\u001b[0m     result \u001b[39m=\u001b[39m \u001b[39mself\u001b[39;49m\u001b[39m.\u001b[39;49mforward(\u001b[39m*\u001b[39;49m\u001b[39minput\u001b[39;49m, \u001b[39m*\u001b[39;49m\u001b[39m*\u001b[39;49mkwargs)\n\u001b[1;32m    728\u001b[0m \u001b[39mfor\u001b[39;00m hook \u001b[39min\u001b[39;00m itertools\u001b[39m.\u001b[39mchain(\n\u001b[1;32m    729\u001b[0m         _global_forward_hooks\u001b[39m.\u001b[39mvalues(),\n\u001b[1;32m    730\u001b[0m         \u001b[39mself\u001b[39m\u001b[39m.\u001b[39m_forward_hooks\u001b[39m.\u001b[39mvalues()):\n\u001b[1;32m    731\u001b[0m     hook_result \u001b[39m=\u001b[39m hook(\u001b[39mself\u001b[39m, \u001b[39minput\u001b[39m, result)\n",
      "File \u001b[0;32m~/anaconda3/envs/segformer_env/lib/python3.8/site-packages/torch/nn/modules/batchnorm.py:519\u001b[0m, in \u001b[0;36mSyncBatchNorm.forward\u001b[0;34m(self, input)\u001b[0m\n\u001b[1;32m    517\u001b[0m     \u001b[39mif\u001b[39;00m \u001b[39mself\u001b[39m\u001b[39m.\u001b[39mprocess_group:\n\u001b[1;32m    518\u001b[0m         process_group \u001b[39m=\u001b[39m \u001b[39mself\u001b[39m\u001b[39m.\u001b[39mprocess_group\n\u001b[0;32m--> 519\u001b[0m     world_size \u001b[39m=\u001b[39m torch\u001b[39m.\u001b[39;49mdistributed\u001b[39m.\u001b[39;49mget_world_size(process_group)\n\u001b[1;32m    520\u001b[0m     need_sync \u001b[39m=\u001b[39m world_size \u001b[39m>\u001b[39m \u001b[39m1\u001b[39m\n\u001b[1;32m    522\u001b[0m \u001b[39m# fallback to framework BN when synchronization is not necessary\u001b[39;00m\n",
      "File \u001b[0;32m~/anaconda3/envs/segformer_env/lib/python3.8/site-packages/torch/distributed/distributed_c10d.py:638\u001b[0m, in \u001b[0;36mget_world_size\u001b[0;34m(group)\u001b[0m\n\u001b[1;32m    635\u001b[0m \u001b[39mif\u001b[39;00m _rank_not_in_group(group):\n\u001b[1;32m    636\u001b[0m     \u001b[39mreturn\u001b[39;00m \u001b[39m-\u001b[39m\u001b[39m1\u001b[39m\n\u001b[0;32m--> 638\u001b[0m \u001b[39mreturn\u001b[39;00m _get_group_size(group)\n",
      "File \u001b[0;32m~/anaconda3/envs/segformer_env/lib/python3.8/site-packages/torch/distributed/distributed_c10d.py:220\u001b[0m, in \u001b[0;36m_get_group_size\u001b[0;34m(group)\u001b[0m\n\u001b[1;32m    215\u001b[0m \u001b[39m\"\"\"\u001b[39;00m\n\u001b[1;32m    216\u001b[0m \u001b[39mHelper that gets a given group's world size\u001b[39;00m\n\u001b[1;32m    217\u001b[0m \n\u001b[1;32m    218\u001b[0m \u001b[39m\"\"\"\u001b[39;00m\n\u001b[1;32m    219\u001b[0m \u001b[39mif\u001b[39;00m group \u001b[39mis\u001b[39;00m GroupMember\u001b[39m.\u001b[39mWORLD:\n\u001b[0;32m--> 220\u001b[0m     _check_default_pg()\n\u001b[1;32m    221\u001b[0m     \u001b[39mreturn\u001b[39;00m _default_pg\u001b[39m.\u001b[39msize()\n\u001b[1;32m    222\u001b[0m \u001b[39mif\u001b[39;00m group \u001b[39mnot\u001b[39;00m \u001b[39min\u001b[39;00m _pg_group_ranks:\n",
      "File \u001b[0;32m~/anaconda3/envs/segformer_env/lib/python3.8/site-packages/torch/distributed/distributed_c10d.py:210\u001b[0m, in \u001b[0;36m_check_default_pg\u001b[0;34m()\u001b[0m\n\u001b[1;32m    204\u001b[0m \u001b[39mdef\u001b[39;00m \u001b[39m_check_default_pg\u001b[39m():\n\u001b[1;32m    205\u001b[0m     \u001b[39m\"\"\"\u001b[39;00m\n\u001b[1;32m    206\u001b[0m \u001b[39m    Helper that checks if the default ProcessGroup has been initialized, with\u001b[39;00m\n\u001b[1;32m    207\u001b[0m \u001b[39m    assertion\u001b[39;00m\n\u001b[1;32m    208\u001b[0m \n\u001b[1;32m    209\u001b[0m \u001b[39m    \"\"\"\u001b[39;00m\n\u001b[0;32m--> 210\u001b[0m     \u001b[39massert\u001b[39;00m _default_pg \u001b[39mis\u001b[39;00m \u001b[39mnot\u001b[39;00m \u001b[39mNone\u001b[39;00m, \\\n\u001b[1;32m    211\u001b[0m         \u001b[39m\"\u001b[39m\u001b[39mDefault process group is not initialized\u001b[39m\u001b[39m\"\u001b[39m\n",
      "\u001b[0;31mAssertionError\u001b[0m: Default process group is not initialized"
     ]
    }
   ],
   "source": [
    "model = model.cuda()\n",
    "with torch.no_grad():\n",
    "            result = model.inference(torch.Tensor(img).permute(2, 0, 1).unsqueeze(0).cuda(), img_meta=[{'ori_shape':(1024,2048)}], rescale=False)"
   ]
  },
  {
   "cell_type": "code",
   "execution_count": 23,
   "metadata": {},
   "outputs": [],
   "source": [
    "transform = A.Compose([\n",
    "    A.Normalize(\n",
    "        mean=np.array([123.675, 116.28, 103.53])/255.0,\n",
    "        std=np.array([58.395, 57.12, 57.375])/255.0\n",
    "        ),\n",
    "    ToTensorV2()\n",
    "])"
   ]
  },
  {
   "cell_type": "code",
   "execution_count": 24,
   "metadata": {},
   "outputs": [
    {
     "name": "stdout",
     "output_type": "stream",
     "text": [
      "IMG DIR  /data/users_home/mbarin/cityscapes/leftImg8bit/val\n",
      "TARGETS DIR  /data/users_home/mbarin/cityscapes/gtFine/val\n",
      "THERE ARE 279 files under this folder :  /data/users_home/mbarin/cityscapes/leftImg8bit/val/frankfurt\n",
      "THERE ARE 186 files under this folder :  /data/users_home/mbarin/cityscapes/leftImg8bit/val/munster\n",
      "THERE ARE 71 files under this folder :  /data/users_home/mbarin/cityscapes/leftImg8bit/val/lindau\n",
      "THERE ARE  500  IMAGES IN TOTAL\n"
     ]
    }
   ],
   "source": [
    "d = Cityscapes(hparams=hparams,\n",
    "    split='val',\n",
    "    sampling_type='separate',\n",
    "    distortion=\"spatter\", \n",
    "    transform=transform,\n",
    "    severity=str(1))"
   ]
  },
  {
   "cell_type": "code",
   "execution_count": 25,
   "metadata": {},
   "outputs": [],
   "source": [
    "for p in d.images:\n",
    "    if 'leftImg8bit' not in p:\n",
    "        print(p)"
   ]
  },
  {
   "cell_type": "code",
   "execution_count": 26,
   "metadata": {},
   "outputs": [
    {
     "data": {
      "text/plain": [
       "['spatter',\n",
       " 'spatter',\n",
       " 'spatter',\n",
       " 'spatter',\n",
       " 'spatter',\n",
       " 'spatter',\n",
       " 'spatter',\n",
       " 'spatter',\n",
       " 'spatter',\n",
       " 'spatter',\n",
       " 'spatter',\n",
       " 'spatter',\n",
       " 'spatter',\n",
       " 'spatter',\n",
       " 'spatter',\n",
       " 'spatter',\n",
       " 'spatter',\n",
       " 'spatter',\n",
       " 'spatter',\n",
       " 'spatter',\n",
       " 'spatter',\n",
       " 'spatter',\n",
       " 'spatter',\n",
       " 'spatter',\n",
       " 'spatter',\n",
       " 'spatter',\n",
       " 'spatter',\n",
       " 'spatter',\n",
       " 'spatter',\n",
       " 'spatter',\n",
       " 'spatter',\n",
       " 'spatter',\n",
       " 'spatter',\n",
       " 'spatter',\n",
       " 'spatter',\n",
       " 'spatter',\n",
       " 'spatter',\n",
       " 'spatter',\n",
       " 'spatter',\n",
       " 'spatter',\n",
       " 'spatter',\n",
       " 'spatter',\n",
       " 'spatter',\n",
       " 'spatter',\n",
       " 'spatter',\n",
       " 'spatter',\n",
       " 'spatter',\n",
       " 'spatter',\n",
       " 'spatter',\n",
       " 'spatter',\n",
       " 'spatter',\n",
       " 'spatter',\n",
       " 'spatter',\n",
       " 'spatter',\n",
       " 'spatter',\n",
       " 'spatter',\n",
       " 'spatter',\n",
       " 'spatter',\n",
       " 'spatter',\n",
       " 'spatter',\n",
       " 'spatter',\n",
       " 'spatter',\n",
       " 'spatter',\n",
       " 'spatter',\n",
       " 'spatter',\n",
       " 'spatter',\n",
       " 'spatter',\n",
       " 'spatter',\n",
       " 'spatter',\n",
       " 'spatter',\n",
       " 'spatter',\n",
       " 'spatter',\n",
       " 'spatter',\n",
       " 'spatter',\n",
       " 'spatter',\n",
       " 'spatter',\n",
       " 'spatter',\n",
       " 'spatter',\n",
       " 'spatter',\n",
       " 'spatter',\n",
       " 'spatter',\n",
       " 'spatter',\n",
       " 'spatter',\n",
       " 'spatter',\n",
       " 'spatter',\n",
       " 'spatter',\n",
       " 'spatter',\n",
       " 'spatter',\n",
       " 'spatter',\n",
       " 'spatter',\n",
       " 'spatter',\n",
       " 'spatter',\n",
       " 'spatter',\n",
       " 'spatter',\n",
       " 'spatter',\n",
       " 'spatter',\n",
       " 'spatter',\n",
       " 'spatter',\n",
       " 'spatter',\n",
       " 'spatter',\n",
       " 'spatter',\n",
       " 'spatter',\n",
       " 'spatter',\n",
       " 'spatter',\n",
       " 'spatter',\n",
       " 'spatter',\n",
       " 'spatter',\n",
       " 'spatter',\n",
       " 'spatter',\n",
       " 'spatter',\n",
       " 'spatter',\n",
       " 'spatter',\n",
       " 'spatter',\n",
       " 'spatter',\n",
       " 'spatter',\n",
       " 'spatter',\n",
       " 'spatter',\n",
       " 'spatter',\n",
       " 'spatter',\n",
       " 'spatter',\n",
       " 'spatter',\n",
       " 'spatter',\n",
       " 'spatter',\n",
       " 'spatter',\n",
       " 'spatter',\n",
       " 'spatter',\n",
       " 'spatter',\n",
       " 'spatter',\n",
       " 'spatter',\n",
       " 'spatter',\n",
       " 'spatter',\n",
       " 'spatter',\n",
       " 'spatter',\n",
       " 'spatter',\n",
       " 'spatter',\n",
       " 'spatter',\n",
       " 'spatter',\n",
       " 'spatter',\n",
       " 'spatter',\n",
       " 'spatter',\n",
       " 'spatter',\n",
       " 'spatter',\n",
       " 'spatter',\n",
       " 'spatter',\n",
       " 'spatter',\n",
       " 'spatter',\n",
       " 'spatter',\n",
       " 'spatter',\n",
       " 'spatter',\n",
       " 'spatter',\n",
       " 'spatter',\n",
       " 'spatter',\n",
       " 'spatter',\n",
       " 'spatter',\n",
       " 'spatter',\n",
       " 'spatter',\n",
       " 'spatter',\n",
       " 'spatter',\n",
       " 'spatter',\n",
       " 'spatter',\n",
       " 'spatter',\n",
       " 'spatter',\n",
       " 'spatter',\n",
       " 'spatter',\n",
       " 'spatter',\n",
       " 'spatter',\n",
       " 'spatter',\n",
       " 'spatter',\n",
       " 'spatter',\n",
       " 'spatter',\n",
       " 'spatter',\n",
       " 'spatter',\n",
       " 'spatter',\n",
       " 'spatter',\n",
       " 'spatter',\n",
       " 'spatter',\n",
       " 'spatter',\n",
       " 'spatter',\n",
       " 'spatter',\n",
       " 'spatter',\n",
       " 'spatter',\n",
       " 'spatter',\n",
       " 'spatter',\n",
       " 'spatter',\n",
       " 'spatter',\n",
       " 'spatter',\n",
       " 'spatter',\n",
       " 'spatter',\n",
       " 'spatter',\n",
       " 'spatter',\n",
       " 'spatter',\n",
       " 'spatter',\n",
       " 'spatter',\n",
       " 'spatter',\n",
       " 'spatter',\n",
       " 'spatter',\n",
       " 'spatter',\n",
       " 'spatter',\n",
       " 'spatter',\n",
       " 'spatter',\n",
       " 'spatter',\n",
       " 'spatter',\n",
       " 'spatter',\n",
       " 'spatter',\n",
       " 'spatter',\n",
       " 'spatter',\n",
       " 'spatter',\n",
       " 'spatter',\n",
       " 'spatter',\n",
       " 'spatter',\n",
       " 'spatter',\n",
       " 'spatter',\n",
       " 'spatter',\n",
       " 'spatter',\n",
       " 'spatter',\n",
       " 'spatter',\n",
       " 'spatter',\n",
       " 'spatter',\n",
       " 'spatter',\n",
       " 'spatter',\n",
       " 'spatter',\n",
       " 'spatter',\n",
       " 'spatter',\n",
       " 'spatter',\n",
       " 'spatter',\n",
       " 'spatter',\n",
       " 'spatter',\n",
       " 'spatter',\n",
       " 'spatter',\n",
       " 'spatter',\n",
       " 'spatter',\n",
       " 'spatter',\n",
       " 'spatter',\n",
       " 'spatter',\n",
       " 'spatter',\n",
       " 'spatter',\n",
       " 'spatter',\n",
       " 'spatter',\n",
       " 'spatter',\n",
       " 'spatter',\n",
       " 'spatter',\n",
       " 'spatter',\n",
       " 'spatter',\n",
       " 'spatter',\n",
       " 'spatter',\n",
       " 'spatter',\n",
       " 'spatter',\n",
       " 'spatter',\n",
       " 'spatter',\n",
       " 'spatter',\n",
       " 'spatter',\n",
       " 'spatter',\n",
       " 'spatter',\n",
       " 'spatter',\n",
       " 'spatter',\n",
       " 'spatter',\n",
       " 'spatter',\n",
       " 'spatter',\n",
       " 'spatter',\n",
       " 'spatter',\n",
       " 'spatter',\n",
       " 'spatter',\n",
       " 'spatter',\n",
       " 'spatter',\n",
       " 'spatter',\n",
       " 'spatter',\n",
       " 'spatter',\n",
       " 'spatter',\n",
       " 'spatter',\n",
       " 'spatter',\n",
       " 'spatter',\n",
       " 'spatter',\n",
       " 'spatter',\n",
       " 'spatter',\n",
       " 'spatter',\n",
       " 'spatter',\n",
       " 'spatter',\n",
       " 'spatter',\n",
       " 'spatter',\n",
       " 'spatter',\n",
       " 'spatter',\n",
       " 'spatter',\n",
       " 'spatter',\n",
       " 'spatter',\n",
       " 'spatter',\n",
       " 'spatter',\n",
       " 'spatter',\n",
       " 'spatter',\n",
       " 'spatter',\n",
       " 'spatter',\n",
       " 'spatter',\n",
       " 'spatter',\n",
       " 'spatter',\n",
       " 'spatter',\n",
       " 'spatter',\n",
       " 'spatter',\n",
       " 'spatter',\n",
       " 'spatter',\n",
       " 'spatter',\n",
       " 'spatter',\n",
       " 'spatter',\n",
       " 'spatter',\n",
       " 'spatter',\n",
       " 'spatter',\n",
       " 'spatter',\n",
       " 'spatter',\n",
       " 'spatter',\n",
       " 'spatter',\n",
       " 'spatter',\n",
       " 'spatter',\n",
       " 'spatter',\n",
       " 'spatter',\n",
       " 'spatter',\n",
       " 'spatter',\n",
       " 'spatter',\n",
       " 'spatter',\n",
       " 'spatter',\n",
       " 'spatter',\n",
       " 'spatter',\n",
       " 'spatter',\n",
       " 'spatter',\n",
       " 'spatter',\n",
       " 'spatter',\n",
       " 'spatter',\n",
       " 'spatter',\n",
       " 'spatter',\n",
       " 'spatter',\n",
       " 'spatter',\n",
       " 'spatter',\n",
       " 'spatter',\n",
       " 'spatter',\n",
       " 'spatter',\n",
       " 'spatter',\n",
       " 'spatter',\n",
       " 'spatter',\n",
       " 'spatter',\n",
       " 'spatter',\n",
       " 'spatter',\n",
       " 'spatter',\n",
       " 'spatter',\n",
       " 'spatter',\n",
       " 'spatter',\n",
       " 'spatter',\n",
       " 'spatter',\n",
       " 'spatter',\n",
       " 'spatter',\n",
       " 'spatter',\n",
       " 'spatter',\n",
       " 'spatter',\n",
       " 'spatter',\n",
       " 'spatter',\n",
       " 'spatter',\n",
       " 'spatter',\n",
       " 'spatter',\n",
       " 'spatter',\n",
       " 'spatter',\n",
       " 'spatter',\n",
       " 'spatter',\n",
       " 'spatter',\n",
       " 'spatter',\n",
       " 'spatter',\n",
       " 'spatter',\n",
       " 'spatter',\n",
       " 'spatter',\n",
       " 'spatter',\n",
       " 'spatter',\n",
       " 'spatter',\n",
       " 'spatter',\n",
       " 'spatter',\n",
       " 'spatter',\n",
       " 'spatter',\n",
       " 'spatter',\n",
       " 'spatter',\n",
       " 'spatter',\n",
       " 'spatter',\n",
       " 'spatter',\n",
       " 'spatter',\n",
       " 'spatter',\n",
       " 'spatter',\n",
       " 'spatter',\n",
       " 'spatter',\n",
       " 'spatter',\n",
       " 'spatter',\n",
       " 'spatter',\n",
       " 'spatter',\n",
       " 'spatter',\n",
       " 'spatter',\n",
       " 'spatter',\n",
       " 'spatter',\n",
       " 'spatter',\n",
       " 'spatter',\n",
       " 'spatter',\n",
       " 'spatter',\n",
       " 'spatter',\n",
       " 'spatter',\n",
       " 'spatter',\n",
       " 'spatter',\n",
       " 'spatter',\n",
       " 'spatter',\n",
       " 'spatter',\n",
       " 'spatter',\n",
       " 'spatter',\n",
       " 'spatter',\n",
       " 'spatter',\n",
       " 'spatter',\n",
       " 'spatter',\n",
       " 'spatter',\n",
       " 'spatter',\n",
       " 'spatter',\n",
       " 'spatter',\n",
       " 'spatter',\n",
       " 'spatter',\n",
       " 'spatter',\n",
       " 'spatter',\n",
       " 'spatter',\n",
       " 'spatter',\n",
       " 'spatter',\n",
       " 'spatter',\n",
       " 'spatter',\n",
       " 'spatter',\n",
       " 'spatter',\n",
       " 'spatter',\n",
       " 'spatter',\n",
       " 'spatter',\n",
       " 'spatter',\n",
       " 'spatter',\n",
       " 'spatter',\n",
       " 'spatter',\n",
       " 'spatter',\n",
       " 'spatter',\n",
       " 'spatter',\n",
       " 'spatter',\n",
       " 'spatter',\n",
       " 'spatter',\n",
       " 'spatter',\n",
       " 'spatter',\n",
       " 'spatter',\n",
       " 'spatter',\n",
       " 'spatter',\n",
       " 'spatter',\n",
       " 'spatter',\n",
       " 'spatter',\n",
       " 'spatter',\n",
       " 'spatter',\n",
       " 'spatter',\n",
       " 'spatter',\n",
       " 'spatter',\n",
       " 'spatter',\n",
       " 'spatter',\n",
       " 'spatter',\n",
       " 'spatter',\n",
       " 'spatter',\n",
       " 'spatter',\n",
       " 'spatter',\n",
       " 'spatter',\n",
       " 'spatter',\n",
       " 'spatter',\n",
       " 'spatter',\n",
       " 'spatter',\n",
       " 'spatter',\n",
       " 'spatter',\n",
       " 'spatter',\n",
       " 'spatter',\n",
       " 'spatter',\n",
       " 'spatter',\n",
       " 'spatter',\n",
       " 'spatter',\n",
       " 'spatter',\n",
       " 'spatter',\n",
       " 'spatter',\n",
       " 'spatter',\n",
       " 'spatter',\n",
       " 'spatter',\n",
       " 'spatter',\n",
       " 'spatter',\n",
       " 'spatter',\n",
       " 'spatter',\n",
       " 'spatter',\n",
       " 'spatter',\n",
       " 'spatter',\n",
       " 'spatter',\n",
       " 'spatter',\n",
       " 'spatter',\n",
       " 'spatter',\n",
       " 'spatter',\n",
       " 'spatter',\n",
       " 'spatter',\n",
       " 'spatter',\n",
       " 'spatter',\n",
       " 'spatter',\n",
       " 'spatter',\n",
       " 'spatter',\n",
       " 'spatter',\n",
       " 'spatter',\n",
       " 'spatter',\n",
       " 'spatter',\n",
       " 'spatter',\n",
       " 'spatter',\n",
       " 'spatter',\n",
       " 'spatter']"
      ]
     },
     "execution_count": 26,
     "metadata": {},
     "output_type": "execute_result"
    }
   ],
   "source": [
    "[p.split('/')[-3] for p in d.images]"
   ]
  },
  {
   "cell_type": "code",
   "execution_count": 27,
   "metadata": {},
   "outputs": [
    {
     "name": "stdout",
     "output_type": "stream",
     "text": [
      "\n"
     ]
    }
   ],
   "source": [
    "img, lbl, _ = d[0]\n",
    "\n",
    "print()"
   ]
  },
  {
   "cell_type": "code",
   "execution_count": 28,
   "metadata": {},
   "outputs": [
    {
     "data": {
      "text/plain": [
       "(tensor(-2.1179), tensor(2.6400))"
      ]
     },
     "execution_count": 28,
     "metadata": {},
     "output_type": "execute_result"
    }
   ],
   "source": [
    "img.min(), img.max()"
   ]
  },
  {
   "cell_type": "code",
   "execution_count": 29,
   "metadata": {},
   "outputs": [
    {
     "name": "stderr",
     "output_type": "stream",
     "text": [
      "Clipping input data to the valid range for imshow with RGB data ([0..1] for floats or [0..255] for integers).\n"
     ]
    },
    {
     "data": {
      "text/plain": [
       "<matplotlib.image.AxesImage at 0x7eff70cc5a30>"
      ]
     },
     "execution_count": 29,
     "metadata": {},
     "output_type": "execute_result"
    },
    {
     "data": {
      "image/png": "[encoded data removed]",
      "text/plain": [
       "<Figure size 640x480 with 1 Axes>"
      ]
     },
     "metadata": {},
     "output_type": "display_data"
    }
   ],
   "source": [
    "plt.imshow(img.permute(1,2,0))"
   ]
  },
  {
   "cell_type": "code",
   "execution_count": 30,
   "metadata": {},
   "outputs": [],
   "source": [
    "from torchmetrics import JaccardIndex\n",
    "import pickle"
   ]
  },
  {
   "cell_type": "code",
   "execution_count": 31,
   "metadata": {},
   "outputs": [],
   "source": [
    "from tqdm import tqdm"
   ]
  },
  {
   "cell_type": "code",
   "execution_count": 83,
   "metadata": {},
   "outputs": [
    {
     "name": "stdout",
     "output_type": "stream",
     "text": [
      "IMG DIR  /data/users_home/mbarin/cityscapes/leftImg8bit/val\n",
      "TARGETS DIR  /data/users_home/mbarin/cityscapes/gtFine/val\n",
      "THERE ARE 279 files under this folder :  /data/users_home/mbarin/cityscapes/leftImg8bit/val/frankfurt\n",
      "THERE ARE 186 files under this folder :  /data/users_home/mbarin/cityscapes/leftImg8bit/val/munster\n",
      "THERE ARE 71 files under this folder :  /data/users_home/mbarin/cityscapes/leftImg8bit/val/lindau\n",
      "THERE ARE  500  IMAGES IN TOTAL\n"
     ]
    },
    {
     "name": "stderr",
     "output_type": "stream",
     "text": [
      "100%|██████████| 500/500 [11:01<00:00,  1.32s/it]\n"
     ]
    },
    {
     "name": "stdout",
     "output_type": "stream",
     "text": [
      "IMG DIR  /data/users_home/mbarin/cityscapes/leftImg8bit/val\n",
      "TARGETS DIR  /data/users_home/mbarin/cityscapes/gtFine/val\n",
      "THERE ARE 279 files under this folder :  /data/users_home/mbarin/cityscapes/leftImg8bit/val/frankfurt\n",
      "THERE ARE 186 files under this folder :  /data/users_home/mbarin/cityscapes/leftImg8bit/val/munster\n",
      "THERE ARE 71 files under this folder :  /data/users_home/mbarin/cityscapes/leftImg8bit/val/lindau\n",
      "THERE ARE  500  IMAGES IN TOTAL\n"
     ]
    },
    {
     "name": "stderr",
     "output_type": "stream",
     "text": [
      "100%|██████████| 500/500 [11:07<00:00,  1.34s/it]\n"
     ]
    },
    {
     "name": "stdout",
     "output_type": "stream",
     "text": [
      "IMG DIR  /data/users_home/mbarin/cityscapes/leftImg8bit/val\n",
      "TARGETS DIR  /data/users_home/mbarin/cityscapes/gtFine/val\n",
      "THERE ARE 279 files under this folder :  /data/users_home/mbarin/cityscapes/leftImg8bit/val/frankfurt\n",
      "THERE ARE 186 files under this folder :  /data/users_home/mbarin/cityscapes/leftImg8bit/val/munster\n",
      "THERE ARE 71 files under this folder :  /data/users_home/mbarin/cityscapes/leftImg8bit/val/lindau\n",
      "THERE ARE  500  IMAGES IN TOTAL\n"
     ]
    },
    {
     "name": "stderr",
     "output_type": "stream",
     "text": [
      "100%|██████████| 500/500 [11:07<00:00,  1.34s/it]\n"
     ]
    },
    {
     "name": "stdout",
     "output_type": "stream",
     "text": [
      "IMG DIR  /data/users_home/mbarin/cityscapes/leftImg8bit/val\n",
      "TARGETS DIR  /data/users_home/mbarin/cityscapes/gtFine/val\n",
      "THERE ARE 279 files under this folder :  /data/users_home/mbarin/cityscapes/leftImg8bit/val/frankfurt\n",
      "THERE ARE 186 files under this folder :  /data/users_home/mbarin/cityscapes/leftImg8bit/val/munster\n",
      "THERE ARE 71 files under this folder :  /data/users_home/mbarin/cityscapes/leftImg8bit/val/lindau\n",
      "THERE ARE  500  IMAGES IN TOTAL\n"
     ]
    },
    {
     "name": "stderr",
     "output_type": "stream",
     "text": [
      "100%|██████████| 500/500 [11:07<00:00,  1.33s/it]\n"
     ]
    },
    {
     "name": "stdout",
     "output_type": "stream",
     "text": [
      "IMG DIR  /data/users_home/mbarin/cityscapes/leftImg8bit/val\n",
      "TARGETS DIR  /data/users_home/mbarin/cityscapes/gtFine/val\n",
      "THERE ARE 279 files under this folder :  /data/users_home/mbarin/cityscapes/leftImg8bit/val/frankfurt\n",
      "THERE ARE 186 files under this folder :  /data/users_home/mbarin/cityscapes/leftImg8bit/val/munster\n",
      "THERE ARE 71 files under this folder :  /data/users_home/mbarin/cityscapes/leftImg8bit/val/lindau\n",
      "THERE ARE  500  IMAGES IN TOTAL\n"
     ]
    },
    {
     "name": "stderr",
     "output_type": "stream",
     "text": [
      "100%|██████████| 500/500 [11:06<00:00,  1.33s/it]\n"
     ]
    },
    {
     "name": "stdout",
     "output_type": "stream",
     "text": [
      "IMG DIR  /data/users_home/mbarin/cityscapes/leftImg8bit/val\n",
      "TARGETS DIR  /data/users_home/mbarin/cityscapes/gtFine/val\n",
      "THERE ARE 279 files under this folder :  /data/users_home/mbarin/cityscapes/leftImg8bit/val/frankfurt\n",
      "THERE ARE 186 files under this folder :  /data/users_home/mbarin/cityscapes/leftImg8bit/val/munster\n",
      "THERE ARE 71 files under this folder :  /data/users_home/mbarin/cityscapes/leftImg8bit/val/lindau\n",
      "THERE ARE  500  IMAGES IN TOTAL\n"
     ]
    },
    {
     "name": "stderr",
     "output_type": "stream",
     "text": [
      "100%|██████████| 500/500 [11:07<00:00,  1.34s/it]\n"
     ]
    },
    {
     "name": "stdout",
     "output_type": "stream",
     "text": [
      "IMG DIR  /data/users_home/mbarin/cityscapes/leftImg8bit/val\n",
      "TARGETS DIR  /data/users_home/mbarin/cityscapes/gtFine/val\n",
      "THERE ARE 279 files under this folder :  /data/users_home/mbarin/cityscapes/leftImg8bit/val/frankfurt\n",
      "THERE ARE 186 files under this folder :  /data/users_home/mbarin/cityscapes/leftImg8bit/val/munster\n",
      "THERE ARE 71 files under this folder :  /data/users_home/mbarin/cityscapes/leftImg8bit/val/lindau\n",
      "THERE ARE  500  IMAGES IN TOTAL\n"
     ]
    },
    {
     "name": "stderr",
     "output_type": "stream",
     "text": [
      "100%|██████████| 500/500 [11:08<00:00,  1.34s/it]\n"
     ]
    },
    {
     "name": "stdout",
     "output_type": "stream",
     "text": [
      "IMG DIR  /data/users_home/mbarin/cityscapes/leftImg8bit/val\n",
      "TARGETS DIR  /data/users_home/mbarin/cityscapes/gtFine/val\n",
      "THERE ARE 279 files under this folder :  /data/users_home/mbarin/cityscapes/leftImg8bit/val/frankfurt\n",
      "THERE ARE 186 files under this folder :  /data/users_home/mbarin/cityscapes/leftImg8bit/val/munster\n",
      "THERE ARE 71 files under this folder :  /data/users_home/mbarin/cityscapes/leftImg8bit/val/lindau\n",
      "THERE ARE  500  IMAGES IN TOTAL\n"
     ]
    },
    {
     "name": "stderr",
     "output_type": "stream",
     "text": [
      "100%|██████████| 500/500 [11:06<00:00,  1.33s/it]\n"
     ]
    },
    {
     "name": "stdout",
     "output_type": "stream",
     "text": [
      "IMG DIR  /data/users_home/mbarin/cityscapes/leftImg8bit/val\n",
      "TARGETS DIR  /data/users_home/mbarin/cityscapes/gtFine/val\n",
      "THERE ARE 279 files under this folder :  /data/users_home/mbarin/cityscapes/leftImg8bit/val/frankfurt\n",
      "THERE ARE 186 files under this folder :  /data/users_home/mbarin/cityscapes/leftImg8bit/val/munster\n",
      "THERE ARE 71 files under this folder :  /data/users_home/mbarin/cityscapes/leftImg8bit/val/lindau\n",
      "THERE ARE  500  IMAGES IN TOTAL\n"
     ]
    },
    {
     "name": "stderr",
     "output_type": "stream",
     "text": [
      "100%|██████████| 500/500 [11:08<00:00,  1.34s/it]\n"
     ]
    },
    {
     "name": "stdout",
     "output_type": "stream",
     "text": [
      "IMG DIR  /data/users_home/mbarin/cityscapes/leftImg8bit/val\n",
      "TARGETS DIR  /data/users_home/mbarin/cityscapes/gtFine/val\n",
      "THERE ARE 279 files under this folder :  /data/users_home/mbarin/cityscapes/leftImg8bit/val/frankfurt\n",
      "THERE ARE 186 files under this folder :  /data/users_home/mbarin/cityscapes/leftImg8bit/val/munster\n",
      "THERE ARE 71 files under this folder :  /data/users_home/mbarin/cityscapes/leftImg8bit/val/lindau\n",
      "THERE ARE  500  IMAGES IN TOTAL\n"
     ]
    },
    {
     "name": "stderr",
     "output_type": "stream",
     "text": [
      "100%|██████████| 500/500 [11:07<00:00,  1.34s/it]\n"
     ]
    },
    {
     "name": "stdout",
     "output_type": "stream",
     "text": [
      "IMG DIR  /data/users_home/mbarin/cityscapes/leftImg8bit/val\n",
      "TARGETS DIR  /data/users_home/mbarin/cityscapes/gtFine/val\n",
      "THERE ARE 279 files under this folder :  /data/users_home/mbarin/cityscapes/leftImg8bit/val/frankfurt\n",
      "THERE ARE 186 files under this folder :  /data/users_home/mbarin/cityscapes/leftImg8bit/val/munster\n",
      "THERE ARE 71 files under this folder :  /data/users_home/mbarin/cityscapes/leftImg8bit/val/lindau\n",
      "THERE ARE  500  IMAGES IN TOTAL\n"
     ]
    },
    {
     "name": "stderr",
     "output_type": "stream",
     "text": [
      "100%|██████████| 500/500 [11:06<00:00,  1.33s/it]\n"
     ]
    },
    {
     "name": "stdout",
     "output_type": "stream",
     "text": [
      "IMG DIR  /data/users_home/mbarin/cityscapes/leftImg8bit/val\n",
      "TARGETS DIR  /data/users_home/mbarin/cityscapes/gtFine/val\n",
      "THERE ARE 279 files under this folder :  /data/users_home/mbarin/cityscapes/leftImg8bit/val/frankfurt\n",
      "THERE ARE 186 files under this folder :  /data/users_home/mbarin/cityscapes/leftImg8bit/val/munster\n",
      "THERE ARE 71 files under this folder :  /data/users_home/mbarin/cityscapes/leftImg8bit/val/lindau\n",
      "THERE ARE  500  IMAGES IN TOTAL\n"
     ]
    },
    {
     "name": "stderr",
     "output_type": "stream",
     "text": [
      "100%|██████████| 500/500 [11:07<00:00,  1.33s/it]\n"
     ]
    },
    {
     "name": "stdout",
     "output_type": "stream",
     "text": [
      "IMG DIR  /data/users_home/mbarin/cityscapes/leftImg8bit/val\n",
      "TARGETS DIR  /data/users_home/mbarin/cityscapes/gtFine/val\n",
      "THERE ARE 279 files under this folder :  /data/users_home/mbarin/cityscapes/leftImg8bit/val/frankfurt\n",
      "THERE ARE 186 files under this folder :  /data/users_home/mbarin/cityscapes/leftImg8bit/val/munster\n",
      "THERE ARE 71 files under this folder :  /data/users_home/mbarin/cityscapes/leftImg8bit/val/lindau\n",
      "THERE ARE  500  IMAGES IN TOTAL\n"
     ]
    },
    {
     "name": "stderr",
     "output_type": "stream",
     "text": [
      "100%|██████████| 500/500 [11:11<00:00,  1.34s/it]\n"
     ]
    },
    {
     "name": "stdout",
     "output_type": "stream",
     "text": [
      "IMG DIR  /data/users_home/mbarin/cityscapes/leftImg8bit/val\n",
      "TARGETS DIR  /data/users_home/mbarin/cityscapes/gtFine/val\n",
      "THERE ARE 279 files under this folder :  /data/users_home/mbarin/cityscapes/leftImg8bit/val/frankfurt\n",
      "THERE ARE 186 files under this folder :  /data/users_home/mbarin/cityscapes/leftImg8bit/val/munster\n",
      "THERE ARE 71 files under this folder :  /data/users_home/mbarin/cityscapes/leftImg8bit/val/lindau\n",
      "THERE ARE  500  IMAGES IN TOTAL\n"
     ]
    },
    {
     "name": "stderr",
     "output_type": "stream",
     "text": [
      "100%|██████████| 500/500 [11:07<00:00,  1.34s/it]\n"
     ]
    },
    {
     "name": "stdout",
     "output_type": "stream",
     "text": [
      "IMG DIR  /data/users_home/mbarin/cityscapes/leftImg8bit/val\n",
      "TARGETS DIR  /data/users_home/mbarin/cityscapes/gtFine/val\n",
      "THERE ARE 279 files under this folder :  /data/users_home/mbarin/cityscapes/leftImg8bit/val/frankfurt\n",
      "THERE ARE 186 files under this folder :  /data/users_home/mbarin/cityscapes/leftImg8bit/val/munster\n",
      "THERE ARE 71 files under this folder :  /data/users_home/mbarin/cityscapes/leftImg8bit/val/lindau\n",
      "THERE ARE  500  IMAGES IN TOTAL\n"
     ]
    },
    {
     "name": "stderr",
     "output_type": "stream",
     "text": [
      "100%|██████████| 500/500 [11:12<00:00,  1.34s/it]\n"
     ]
    },
    {
     "name": "stdout",
     "output_type": "stream",
     "text": [
      "IMG DIR  /data/users_home/mbarin/cityscapes/leftImg8bit/val\n",
      "TARGETS DIR  /data/users_home/mbarin/cityscapes/gtFine/val\n",
      "THERE ARE 279 files under this folder :  /data/users_home/mbarin/cityscapes/leftImg8bit/val/frankfurt\n",
      "THERE ARE 186 files under this folder :  /data/users_home/mbarin/cityscapes/leftImg8bit/val/munster\n",
      "THERE ARE 71 files under this folder :  /data/users_home/mbarin/cityscapes/leftImg8bit/val/lindau\n",
      "THERE ARE  500  IMAGES IN TOTAL\n"
     ]
    },
    {
     "name": "stderr",
     "output_type": "stream",
     "text": [
      "100%|██████████| 500/500 [11:12<00:00,  1.35s/it]\n"
     ]
    },
    {
     "name": "stdout",
     "output_type": "stream",
     "text": [
      "IMG DIR  /data/users_home/mbarin/cityscapes/leftImg8bit/val\n",
      "TARGETS DIR  /data/users_home/mbarin/cityscapes/gtFine/val\n",
      "THERE ARE 279 files under this folder :  /data/users_home/mbarin/cityscapes/leftImg8bit/val/frankfurt\n",
      "THERE ARE 186 files under this folder :  /data/users_home/mbarin/cityscapes/leftImg8bit/val/munster\n",
      "THERE ARE 71 files under this folder :  /data/users_home/mbarin/cityscapes/leftImg8bit/val/lindau\n",
      "THERE ARE  500  IMAGES IN TOTAL\n"
     ]
    },
    {
     "name": "stderr",
     "output_type": "stream",
     "text": [
      "100%|██████████| 500/500 [11:09<00:00,  1.34s/it]\n"
     ]
    },
    {
     "name": "stdout",
     "output_type": "stream",
     "text": [
      "IMG DIR  /data/users_home/mbarin/cityscapes/leftImg8bit/val\n",
      "TARGETS DIR  /data/users_home/mbarin/cityscapes/gtFine/val\n",
      "THERE ARE 279 files under this folder :  /data/users_home/mbarin/cityscapes/leftImg8bit/val/frankfurt\n",
      "THERE ARE 186 files under this folder :  /data/users_home/mbarin/cityscapes/leftImg8bit/val/munster\n",
      "THERE ARE 71 files under this folder :  /data/users_home/mbarin/cityscapes/leftImg8bit/val/lindau\n",
      "THERE ARE  500  IMAGES IN TOTAL\n"
     ]
    },
    {
     "name": "stderr",
     "output_type": "stream",
     "text": [
      "100%|██████████| 500/500 [11:20<00:00,  1.36s/it]\n"
     ]
    },
    {
     "name": "stdout",
     "output_type": "stream",
     "text": [
      "IMG DIR  /data/users_home/mbarin/cityscapes/leftImg8bit/val\n",
      "TARGETS DIR  /data/users_home/mbarin/cityscapes/gtFine/val\n",
      "THERE ARE 279 files under this folder :  /data/users_home/mbarin/cityscapes/leftImg8bit/val/frankfurt\n",
      "THERE ARE 186 files under this folder :  /data/users_home/mbarin/cityscapes/leftImg8bit/val/munster\n",
      "THERE ARE 71 files under this folder :  /data/users_home/mbarin/cityscapes/leftImg8bit/val/lindau\n",
      "THERE ARE  500  IMAGES IN TOTAL\n"
     ]
    },
    {
     "name": "stderr",
     "output_type": "stream",
     "text": [
      "100%|██████████| 500/500 [11:29<00:00,  1.38s/it]\n"
     ]
    },
    {
     "name": "stdout",
     "output_type": "stream",
     "text": [
      "IMG DIR  /data/users_home/mbarin/cityscapes/leftImg8bit/val\n",
      "TARGETS DIR  /data/users_home/mbarin/cityscapes/gtFine/val\n",
      "THERE ARE 279 files under this folder :  /data/users_home/mbarin/cityscapes/leftImg8bit/val/frankfurt\n",
      "THERE ARE 186 files under this folder :  /data/users_home/mbarin/cityscapes/leftImg8bit/val/munster\n",
      "THERE ARE 71 files under this folder :  /data/users_home/mbarin/cityscapes/leftImg8bit/val/lindau\n",
      "THERE ARE  500  IMAGES IN TOTAL\n"
     ]
    },
    {
     "name": "stderr",
     "output_type": "stream",
     "text": [
      "100%|██████████| 500/500 [11:20<00:00,  1.36s/it]\n"
     ]
    },
    {
     "name": "stdout",
     "output_type": "stream",
     "text": [
      "IMG DIR  /data/users_home/mbarin/cityscapes/leftImg8bit/val\n",
      "TARGETS DIR  /data/users_home/mbarin/cityscapes/gtFine/val\n",
      "THERE ARE 279 files under this folder :  /data/users_home/mbarin/cityscapes/leftImg8bit/val/frankfurt\n",
      "THERE ARE 186 files under this folder :  /data/users_home/mbarin/cityscapes/leftImg8bit/val/munster\n",
      "THERE ARE 71 files under this folder :  /data/users_home/mbarin/cityscapes/leftImg8bit/val/lindau\n",
      "THERE ARE  500  IMAGES IN TOTAL\n"
     ]
    },
    {
     "name": "stderr",
     "output_type": "stream",
     "text": [
      "100%|██████████| 500/500 [11:14<00:00,  1.35s/it]\n"
     ]
    },
    {
     "name": "stdout",
     "output_type": "stream",
     "text": [
      "IMG DIR  /data/users_home/mbarin/cityscapes/leftImg8bit/val\n",
      "TARGETS DIR  /data/users_home/mbarin/cityscapes/gtFine/val\n",
      "THERE ARE 279 files under this folder :  /data/users_home/mbarin/cityscapes/leftImg8bit/val/frankfurt\n",
      "THERE ARE 186 files under this folder :  /data/users_home/mbarin/cityscapes/leftImg8bit/val/munster\n",
      "THERE ARE 71 files under this folder :  /data/users_home/mbarin/cityscapes/leftImg8bit/val/lindau\n",
      "THERE ARE  500  IMAGES IN TOTAL\n"
     ]
    },
    {
     "name": "stderr",
     "output_type": "stream",
     "text": [
      " 33%|███▎      | 164/500 [03:42<07:33,  1.35s/it]"
     ]
    }
   ],
   "source": [
    "NUM_RANDOM_SAMPLING = 5\n",
    "\n",
    "random_iou_vals = edict()\n",
    "\n",
    "model.cuda()\n",
    "_ = model.eval()\n",
    "for severity in range(1,6): \n",
    "    random_iou_vals[str(severity)] = edict()\n",
    "    for R in range(NUM_RANDOM_SAMPLING):\n",
    "        \n",
    "        distorted_dataset = Cityscapes(hparams=hparams,\n",
    "                                    split='val',\n",
    "                                    sampling_type='random',\n",
    "                                    #distortion=distortion, \n",
    "                                    transform=transform,\n",
    "                                    severity=str(severity))\n",
    "        \n",
    "        distorted_dataloader = DataLoader(distorted_dataset, \n",
    "                                            batch_size=1, \n",
    "                                            shuffle=False, \n",
    "                                            num_workers=4)\n",
    "\n",
    "        metric = JaccardIndex(num_classes=20, ignore_index=19)\n",
    "\n",
    "        for img, target, img_path  in tqdm(distorted_dataloader):  # img, target, img_path\n",
    "\n",
    "            img_path = img_path[0]\n",
    "            # img: Tensor,  distorted img of shape N X 1024 X 2048 X 3\n",
    "            # target: Tensor,  of shape N X 1024 X 2048\n",
    "            # img path: str \n",
    "\n",
    "\n",
    "            # model inference code\n",
    "\n",
    "            with torch.no_grad():\n",
    "                out = model([img.cuda()*1.0], img_metas=[[{'ori_shape':[1024, 2048], 'img_shape':[1024,2048],  'pad_shape':[0,0,0,0], 'flip':False}]], return_loss=False)\n",
    "            \n",
    "            pred = torch.from_numpy(out[0])\n",
    "\n",
    "            metric.update(pred, target)\n",
    "\n",
    "        random_iou_vals[str(severity)][f\"trial_{R}\"] = metric.compute()\n",
    "        with open(\"random_robust.pkl\", \"wb\") as f:\n",
    "            pickle.dump(random_iou_vals, f)\n",
    "\n",
    "        "
   ]
  },
  {
   "cell_type": "code",
   "execution_count": 32,
   "metadata": {},
   "outputs": [],
   "source": [
    "distortions = d.distortions"
   ]
  },
  {
   "cell_type": "code",
   "execution_count": 33,
   "metadata": {},
   "outputs": [
    {
     "data": {
      "text/plain": [
       "['gaussian_noise',\n",
       " 'shot_noise',\n",
       " 'impulse_noise',\n",
       " 'defocus_blur',\n",
       " 'brightness',\n",
       " 'contrast',\n",
       " 'elastic_transform',\n",
       " 'speckle_noise',\n",
       " 'gaussian_blur',\n",
       " 'spatter',\n",
       " 'saturate']"
      ]
     },
     "execution_count": 33,
     "metadata": {},
     "output_type": "execute_result"
    }
   ],
   "source": [
    "distortions"
   ]
  },
  {
   "cell_type": "code",
   "execution_count": 43,
   "metadata": {},
   "outputs": [
    {
     "name": "stdout",
     "output_type": "stream",
     "text": [
      "IMG DIR  /data/users_home/mbarin/cityscapes/leftImg8bit/val\n",
      "TARGETS DIR  /data/users_home/mbarin/cityscapes/gtFine/val\n",
      "THERE ARE 279 files under this folder :  /data/users_home/mbarin/cityscapes/leftImg8bit/val/frankfurt\n",
      "THERE ARE 186 files under this folder :  /data/users_home/mbarin/cityscapes/leftImg8bit/val/munster\n",
      "THERE ARE 71 files under this folder :  /data/users_home/mbarin/cityscapes/leftImg8bit/val/lindau\n",
      "THERE ARE  500  IMAGES IN TOTAL\n"
     ]
    },
    {
     "name": "stderr",
     "output_type": "stream",
     "text": [
      "100%|██████████| 500/500 [11:04<00:00,  1.33s/it]\n"
     ]
    },
    {
     "name": "stdout",
     "output_type": "stream",
     "text": [
      "IMG DIR  /data/users_home/mbarin/cityscapes/leftImg8bit/val\n",
      "TARGETS DIR  /data/users_home/mbarin/cityscapes/gtFine/val\n",
      "THERE ARE 279 files under this folder :  /data/users_home/mbarin/cityscapes/leftImg8bit/val/frankfurt\n",
      "THERE ARE 186 files under this folder :  /data/users_home/mbarin/cityscapes/leftImg8bit/val/munster\n",
      "THERE ARE 71 files under this folder :  /data/users_home/mbarin/cityscapes/leftImg8bit/val/lindau\n",
      "THERE ARE  500  IMAGES IN TOTAL\n"
     ]
    },
    {
     "name": "stderr",
     "output_type": "stream",
     "text": [
      "100%|██████████| 500/500 [11:18<00:00,  1.36s/it]\n"
     ]
    },
    {
     "name": "stdout",
     "output_type": "stream",
     "text": [
      "IMG DIR  /data/users_home/mbarin/cityscapes/leftImg8bit/val\n",
      "TARGETS DIR  /data/users_home/mbarin/cityscapes/gtFine/val\n",
      "THERE ARE 279 files under this folder :  /data/users_home/mbarin/cityscapes/leftImg8bit/val/frankfurt\n",
      "THERE ARE 186 files under this folder :  /data/users_home/mbarin/cityscapes/leftImg8bit/val/munster\n",
      "THERE ARE 71 files under this folder :  /data/users_home/mbarin/cityscapes/leftImg8bit/val/lindau\n",
      "THERE ARE  500  IMAGES IN TOTAL\n"
     ]
    },
    {
     "name": "stderr",
     "output_type": "stream",
     "text": [
      "100%|██████████| 500/500 [11:21<00:00,  1.36s/it]\n"
     ]
    },
    {
     "name": "stdout",
     "output_type": "stream",
     "text": [
      "IMG DIR  /data/users_home/mbarin/cityscapes/leftImg8bit/val\n",
      "TARGETS DIR  /data/users_home/mbarin/cityscapes/gtFine/val\n",
      "THERE ARE 279 files under this folder :  /data/users_home/mbarin/cityscapes/leftImg8bit/val/frankfurt\n",
      "THERE ARE 186 files under this folder :  /data/users_home/mbarin/cityscapes/leftImg8bit/val/munster\n",
      "THERE ARE 71 files under this folder :  /data/users_home/mbarin/cityscapes/leftImg8bit/val/lindau\n",
      "THERE ARE  500  IMAGES IN TOTAL\n"
     ]
    },
    {
     "name": "stderr",
     "output_type": "stream",
     "text": [
      "100%|██████████| 500/500 [11:22<00:00,  1.36s/it]\n"
     ]
    },
    {
     "name": "stdout",
     "output_type": "stream",
     "text": [
      "IMG DIR  /data/users_home/mbarin/cityscapes/leftImg8bit/val\n",
      "TARGETS DIR  /data/users_home/mbarin/cityscapes/gtFine/val\n",
      "THERE ARE 279 files under this folder :  /data/users_home/mbarin/cityscapes/leftImg8bit/val/frankfurt\n",
      "THERE ARE 186 files under this folder :  /data/users_home/mbarin/cityscapes/leftImg8bit/val/munster\n",
      "THERE ARE 71 files under this folder :  /data/users_home/mbarin/cityscapes/leftImg8bit/val/lindau\n",
      "THERE ARE  500  IMAGES IN TOTAL\n"
     ]
    },
    {
     "name": "stderr",
     "output_type": "stream",
     "text": [
      "100%|██████████| 500/500 [11:19<00:00,  1.36s/it]\n"
     ]
    },
    {
     "name": "stdout",
     "output_type": "stream",
     "text": [
      "IMG DIR  /data/users_home/mbarin/cityscapes/leftImg8bit/val\n",
      "TARGETS DIR  /data/users_home/mbarin/cityscapes/gtFine/val\n",
      "THERE ARE 279 files under this folder :  /data/users_home/mbarin/cityscapes/leftImg8bit/val/frankfurt\n",
      "THERE ARE 186 files under this folder :  /data/users_home/mbarin/cityscapes/leftImg8bit/val/munster\n",
      "THERE ARE 71 files under this folder :  /data/users_home/mbarin/cityscapes/leftImg8bit/val/lindau\n",
      "THERE ARE  500  IMAGES IN TOTAL\n"
     ]
    },
    {
     "name": "stderr",
     "output_type": "stream",
     "text": [
      "100%|██████████| 500/500 [11:21<00:00,  1.36s/it]\n"
     ]
    },
    {
     "name": "stdout",
     "output_type": "stream",
     "text": [
      "IMG DIR  /data/users_home/mbarin/cityscapes/leftImg8bit/val\n",
      "TARGETS DIR  /data/users_home/mbarin/cityscapes/gtFine/val\n",
      "THERE ARE 279 files under this folder :  /data/users_home/mbarin/cityscapes/leftImg8bit/val/frankfurt\n",
      "THERE ARE 186 files under this folder :  /data/users_home/mbarin/cityscapes/leftImg8bit/val/munster\n",
      "THERE ARE 71 files under this folder :  /data/users_home/mbarin/cityscapes/leftImg8bit/val/lindau\n",
      "THERE ARE  500  IMAGES IN TOTAL\n"
     ]
    },
    {
     "name": "stderr",
     "output_type": "stream",
     "text": [
      "100%|██████████| 500/500 [11:18<00:00,  1.36s/it]\n"
     ]
    },
    {
     "name": "stdout",
     "output_type": "stream",
     "text": [
      "IMG DIR  /data/users_home/mbarin/cityscapes/leftImg8bit/val\n",
      "TARGETS DIR  /data/users_home/mbarin/cityscapes/gtFine/val\n",
      "THERE ARE 279 files under this folder :  /data/users_home/mbarin/cityscapes/leftImg8bit/val/frankfurt\n",
      "THERE ARE 186 files under this folder :  /data/users_home/mbarin/cityscapes/leftImg8bit/val/munster\n",
      "THERE ARE 71 files under this folder :  /data/users_home/mbarin/cityscapes/leftImg8bit/val/lindau\n",
      "THERE ARE  500  IMAGES IN TOTAL\n"
     ]
    },
    {
     "name": "stderr",
     "output_type": "stream",
     "text": [
      "100%|██████████| 500/500 [11:17<00:00,  1.36s/it]\n"
     ]
    },
    {
     "name": "stdout",
     "output_type": "stream",
     "text": [
      "IMG DIR  /data/users_home/mbarin/cityscapes/leftImg8bit/val\n",
      "TARGETS DIR  /data/users_home/mbarin/cityscapes/gtFine/val\n",
      "THERE ARE 279 files under this folder :  /data/users_home/mbarin/cityscapes/leftImg8bit/val/frankfurt\n",
      "THERE ARE 186 files under this folder :  /data/users_home/mbarin/cityscapes/leftImg8bit/val/munster\n",
      "THERE ARE 71 files under this folder :  /data/users_home/mbarin/cityscapes/leftImg8bit/val/lindau\n",
      "THERE ARE  500  IMAGES IN TOTAL\n"
     ]
    },
    {
     "name": "stderr",
     "output_type": "stream",
     "text": [
      "100%|██████████| 500/500 [11:19<00:00,  1.36s/it]\n"
     ]
    },
    {
     "name": "stdout",
     "output_type": "stream",
     "text": [
      "IMG DIR  /data/users_home/mbarin/cityscapes/leftImg8bit/val\n",
      "TARGETS DIR  /data/users_home/mbarin/cityscapes/gtFine/val\n",
      "THERE ARE 279 files under this folder :  /data/users_home/mbarin/cityscapes/leftImg8bit/val/frankfurt\n",
      "THERE ARE 186 files under this folder :  /data/users_home/mbarin/cityscapes/leftImg8bit/val/munster\n",
      "THERE ARE 71 files under this folder :  /data/users_home/mbarin/cityscapes/leftImg8bit/val/lindau\n",
      "THERE ARE  500  IMAGES IN TOTAL\n"
     ]
    },
    {
     "name": "stderr",
     "output_type": "stream",
     "text": [
      "100%|██████████| 500/500 [11:19<00:00,  1.36s/it]\n"
     ]
    },
    {
     "name": "stdout",
     "output_type": "stream",
     "text": [
      "IMG DIR  /data/users_home/mbarin/cityscapes/leftImg8bit/val\n",
      "TARGETS DIR  /data/users_home/mbarin/cityscapes/gtFine/val\n",
      "THERE ARE 279 files under this folder :  /data/users_home/mbarin/cityscapes/leftImg8bit/val/frankfurt\n",
      "THERE ARE 186 files under this folder :  /data/users_home/mbarin/cityscapes/leftImg8bit/val/munster\n",
      "THERE ARE 71 files under this folder :  /data/users_home/mbarin/cityscapes/leftImg8bit/val/lindau\n",
      "THERE ARE  500  IMAGES IN TOTAL\n"
     ]
    },
    {
     "name": "stderr",
     "output_type": "stream",
     "text": [
      "100%|██████████| 500/500 [11:18<00:00,  1.36s/it]\n"
     ]
    }
   ],
   "source": [
    "all_iou_vals = edict()\n",
    "for severity in [1]: \n",
    "    all_iou_vals[str(severity)] = edict()\n",
    "    for dist in distortions:\n",
    "        \n",
    "        distorted_dataset = Cityscapes(hparams=hparams,\n",
    "                                    split='val',\n",
    "                                    sampling_type='separate',\n",
    "                                    distortion=dist, \n",
    "                                    transform=transform,\n",
    "                                    severity=str(severity))\n",
    "        \n",
    "        distorted_dataloader = DataLoader(distorted_dataset, \n",
    "                                            batch_size=1, \n",
    "                                            shuffle=False, \n",
    "                                            num_workers=4)\n",
    "\n",
    "        metric = JaccardIndex(num_classes=20, ignore_index=19)\n",
    "\n",
    "        for img, target, img_path  in tqdm(distorted_dataloader):  # img, target, img_path\n",
    "\n",
    "            img_path = img_path[0]\n",
    "            # img: Tensor,  distorted img of shape N X 1024 X 2048 X 3\n",
    "            # target: Tensor,  of shape N X 1024 X 2048\n",
    "            # img path: str \n",
    "\n",
    "\n",
    "            # model inference code\n",
    "\n",
    "            with torch.no_grad():\n",
    "                out = model([img.cuda()*1.0], img_metas=[[{'ori_shape':[1024, 2048], 'img_shape':[1024,2048],  'pad_shape':[0,0,0,0], 'flip':False}]], return_loss=False)\n",
    "            \n",
    "            out = torch.from_numpy(out[0])\n",
    "\n",
    "            metric.update(out, target)\n",
    "\n",
    "        all_iou_vals[str(severity)][dist] = metric.compute()\n",
    "        with open(\"all_robust_1.pkl\", \"wb\") as f:\n",
    "            pickle.dump(all_iou_vals, f)"
   ]
  },
  {
   "cell_type": "code",
   "execution_count": 44,
   "metadata": {},
   "outputs": [
    {
     "data": {
      "text/plain": [
       "{'1': {'gaussian_noise': tensor(0.6728),\n",
       "  'shot_noise': tensor(0.7056),\n",
       "  'impulse_noise': tensor(0.6296),\n",
       "  'defocus_blur': tensor(0.7791),\n",
       "  'brightness': tensor(0.8127),\n",
       "  'contrast': tensor(0.8096),\n",
       "  'elastic_transform': tensor(0.5193),\n",
       "  'speckle_noise': tensor(0.7591),\n",
       "  'gaussian_blur': tensor(0.8095),\n",
       "  'spatter': tensor(0.8068),\n",
       "  'saturate': tensor(0.8109)}}"
      ]
     },
     "execution_count": 44,
     "metadata": {},
     "output_type": "execute_result"
    }
   ],
   "source": [
    "all_iou_vals"
   ]
  },
  {
   "cell_type": "code",
   "execution_count": 78,
   "metadata": {},
   "outputs": [],
   "source": [
    "with open(\"test.pkl\", \"wb\") as f:\n",
    "            pickle.dump({\"a\":1}, f)"
   ]
  },
  {
   "cell_type": "code",
   "execution_count": 38,
   "metadata": {},
   "outputs": [],
   "source": [
    "import pickle\n",
    "with open('all_robust.pkl', 'rb') as f:\n",
    "    x = pickle.load(f)\n"
   ]
  },
  {
   "cell_type": "code",
   "execution_count": 39,
   "metadata": {},
   "outputs": [
    {
     "data": {
      "text/plain": [
       "{'1': {'gaussian_noise': tensor(0.6728),\n",
       "  'shot_noise': tensor(0.7056),\n",
       "  'impulse_noise': tensor(0.6296),\n",
       "  'defocus_blur': tensor(0.7791),\n",
       "  'brightness': tensor(0.8127),\n",
       "  'contrast': tensor(0.8096),\n",
       "  'elastic_transform': tensor(0.5193),\n",
       "  'speckle_noise': tensor(0.7591),\n",
       "  'gaussian_blur': tensor(0.8095),\n",
       "  'spatter': tensor(0.8068),\n",
       "  'saturate': tensor(0.8109)},\n",
       " '2': {'gaussian_noise': tensor(0.5902)}}"
      ]
     },
     "execution_count": 39,
     "metadata": {},
     "output_type": "execute_result"
    }
   ],
   "source": [
    "x"
   ]
  }
 ],
 "metadata": {
  "kernelspec": {
   "display_name": "Python 3.8.15 ('segformer_env')",
   "language": "python",
   "name": "python3"
  },
  "language_info": {
   "codemirror_mode": {
    "name": "ipython",
    "version": 3
   },
   "file_extension": ".py",
   "mimetype": "text/x-python",
   "name": "python",
   "nbconvert_exporter": "python",
   "pygments_lexer": "ipython3",
   "version": "3.8.15"
  },
  "orig_nbformat": 4,
  "vscode": {
   "interpreter": {
    "hash": "8c65a7f2efb7249985516ccafc02e71780ecadd2a34cebcb3631e17bf93b26c7"
   }
  }
 },
 "nbformat": 4,
 "nbformat_minor": 2
}
